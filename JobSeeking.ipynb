{
 "cells": [
  {
   "cell_type": "markdown",
   "id": "3afa014e",
   "metadata": {},
   "source": [
    "CRISP DM: Business Understanding\n",
    "The primary goal is to identify the characteristics of someone who is actively seeking a job. \n",
    "\n",
    "Project Plan: \n",
    "-isolate respondents who are seeking a job and analyze their numerical data\n",
    "-isolate respondents who are NOT seeking a job and analyze their numerical data\n",
    "-compare the analysis of the two groups \n",
    "-create a visualization displaying the characteristics of the average respondent who is seeking a job\n",
    "\n",
    "I will know my analysis is sucessful if it provides insight into the characteristics of one who is actively seeking a job.\n",
    "\n",
    "My data comes from the 2017 StackOverflow Annual Developer Survey."
   ]
  },
  {
   "cell_type": "markdown",
   "id": "57fbbe8d",
   "metadata": {},
   "source": [
    "First, let's read in the data from the StackOverflow 2017 Survey. "
   ]
  },
  {
   "cell_type": "code",
   "execution_count": 1,
   "id": "e3802083",
   "metadata": {},
   "outputs": [
    {
     "data": {
      "text/html": [
       "<div>\n",
       "<style scoped>\n",
       "    .dataframe tbody tr th:only-of-type {\n",
       "        vertical-align: middle;\n",
       "    }\n",
       "\n",
       "    .dataframe tbody tr th {\n",
       "        vertical-align: top;\n",
       "    }\n",
       "\n",
       "    .dataframe thead th {\n",
       "        text-align: right;\n",
       "    }\n",
       "</style>\n",
       "<table border=\"1\" class=\"dataframe\">\n",
       "  <thead>\n",
       "    <tr style=\"text-align: right;\">\n",
       "      <th></th>\n",
       "      <th>Respondent</th>\n",
       "      <th>Professional</th>\n",
       "      <th>ProgramHobby</th>\n",
       "      <th>Country</th>\n",
       "      <th>University</th>\n",
       "      <th>EmploymentStatus</th>\n",
       "      <th>FormalEducation</th>\n",
       "      <th>MajorUndergrad</th>\n",
       "      <th>HomeRemote</th>\n",
       "      <th>CompanySize</th>\n",
       "      <th>...</th>\n",
       "      <th>StackOverflowMakeMoney</th>\n",
       "      <th>Gender</th>\n",
       "      <th>HighestEducationParents</th>\n",
       "      <th>Race</th>\n",
       "      <th>SurveyLong</th>\n",
       "      <th>QuestionsInteresting</th>\n",
       "      <th>QuestionsConfusing</th>\n",
       "      <th>InterestedAnswers</th>\n",
       "      <th>Salary</th>\n",
       "      <th>ExpectedSalary</th>\n",
       "    </tr>\n",
       "  </thead>\n",
       "  <tbody>\n",
       "    <tr>\n",
       "      <th>0</th>\n",
       "      <td>1</td>\n",
       "      <td>Student</td>\n",
       "      <td>Yes, both</td>\n",
       "      <td>United States</td>\n",
       "      <td>No</td>\n",
       "      <td>Not employed, and not looking for work</td>\n",
       "      <td>Secondary school</td>\n",
       "      <td>NaN</td>\n",
       "      <td>NaN</td>\n",
       "      <td>NaN</td>\n",
       "      <td>...</td>\n",
       "      <td>Strongly disagree</td>\n",
       "      <td>Male</td>\n",
       "      <td>High school</td>\n",
       "      <td>White or of European descent</td>\n",
       "      <td>Strongly disagree</td>\n",
       "      <td>Strongly agree</td>\n",
       "      <td>Disagree</td>\n",
       "      <td>Strongly agree</td>\n",
       "      <td>NaN</td>\n",
       "      <td>NaN</td>\n",
       "    </tr>\n",
       "    <tr>\n",
       "      <th>1</th>\n",
       "      <td>2</td>\n",
       "      <td>Student</td>\n",
       "      <td>Yes, both</td>\n",
       "      <td>United Kingdom</td>\n",
       "      <td>Yes, full-time</td>\n",
       "      <td>Employed part-time</td>\n",
       "      <td>Some college/university study without earning ...</td>\n",
       "      <td>Computer science or software engineering</td>\n",
       "      <td>More than half, but not all, the time</td>\n",
       "      <td>20 to 99 employees</td>\n",
       "      <td>...</td>\n",
       "      <td>Strongly disagree</td>\n",
       "      <td>Male</td>\n",
       "      <td>A master's degree</td>\n",
       "      <td>White or of European descent</td>\n",
       "      <td>Somewhat agree</td>\n",
       "      <td>Somewhat agree</td>\n",
       "      <td>Disagree</td>\n",
       "      <td>Strongly agree</td>\n",
       "      <td>NaN</td>\n",
       "      <td>37500.0</td>\n",
       "    </tr>\n",
       "    <tr>\n",
       "      <th>2</th>\n",
       "      <td>3</td>\n",
       "      <td>Professional developer</td>\n",
       "      <td>Yes, both</td>\n",
       "      <td>United Kingdom</td>\n",
       "      <td>No</td>\n",
       "      <td>Employed full-time</td>\n",
       "      <td>Bachelor's degree</td>\n",
       "      <td>Computer science or software engineering</td>\n",
       "      <td>Less than half the time, but at least one day ...</td>\n",
       "      <td>10,000 or more employees</td>\n",
       "      <td>...</td>\n",
       "      <td>Disagree</td>\n",
       "      <td>Male</td>\n",
       "      <td>A professional degree</td>\n",
       "      <td>White or of European descent</td>\n",
       "      <td>Somewhat agree</td>\n",
       "      <td>Agree</td>\n",
       "      <td>Disagree</td>\n",
       "      <td>Agree</td>\n",
       "      <td>113750.0</td>\n",
       "      <td>NaN</td>\n",
       "    </tr>\n",
       "    <tr>\n",
       "      <th>3</th>\n",
       "      <td>4</td>\n",
       "      <td>Professional non-developer who sometimes write...</td>\n",
       "      <td>Yes, both</td>\n",
       "      <td>United States</td>\n",
       "      <td>No</td>\n",
       "      <td>Employed full-time</td>\n",
       "      <td>Doctoral degree</td>\n",
       "      <td>A non-computer-focused engineering discipline</td>\n",
       "      <td>Less than half the time, but at least one day ...</td>\n",
       "      <td>10,000 or more employees</td>\n",
       "      <td>...</td>\n",
       "      <td>Disagree</td>\n",
       "      <td>Male</td>\n",
       "      <td>A doctoral degree</td>\n",
       "      <td>White or of European descent</td>\n",
       "      <td>Agree</td>\n",
       "      <td>Agree</td>\n",
       "      <td>Somewhat agree</td>\n",
       "      <td>Strongly agree</td>\n",
       "      <td>NaN</td>\n",
       "      <td>NaN</td>\n",
       "    </tr>\n",
       "    <tr>\n",
       "      <th>4</th>\n",
       "      <td>5</td>\n",
       "      <td>Professional developer</td>\n",
       "      <td>Yes, I program as a hobby</td>\n",
       "      <td>Switzerland</td>\n",
       "      <td>No</td>\n",
       "      <td>Employed full-time</td>\n",
       "      <td>Master's degree</td>\n",
       "      <td>Computer science or software engineering</td>\n",
       "      <td>Never</td>\n",
       "      <td>10 to 19 employees</td>\n",
       "      <td>...</td>\n",
       "      <td>NaN</td>\n",
       "      <td>NaN</td>\n",
       "      <td>NaN</td>\n",
       "      <td>NaN</td>\n",
       "      <td>NaN</td>\n",
       "      <td>NaN</td>\n",
       "      <td>NaN</td>\n",
       "      <td>NaN</td>\n",
       "      <td>NaN</td>\n",
       "      <td>NaN</td>\n",
       "    </tr>\n",
       "  </tbody>\n",
       "</table>\n",
       "<p>5 rows × 154 columns</p>\n",
       "</div>"
      ],
      "text/plain": [
       "   Respondent                                       Professional  \\\n",
       "0           1                                            Student   \n",
       "1           2                                            Student   \n",
       "2           3                             Professional developer   \n",
       "3           4  Professional non-developer who sometimes write...   \n",
       "4           5                             Professional developer   \n",
       "\n",
       "                ProgramHobby         Country      University  \\\n",
       "0                  Yes, both   United States              No   \n",
       "1                  Yes, both  United Kingdom  Yes, full-time   \n",
       "2                  Yes, both  United Kingdom              No   \n",
       "3                  Yes, both   United States              No   \n",
       "4  Yes, I program as a hobby     Switzerland              No   \n",
       "\n",
       "                         EmploymentStatus  \\\n",
       "0  Not employed, and not looking for work   \n",
       "1                      Employed part-time   \n",
       "2                      Employed full-time   \n",
       "3                      Employed full-time   \n",
       "4                      Employed full-time   \n",
       "\n",
       "                                     FormalEducation  \\\n",
       "0                                   Secondary school   \n",
       "1  Some college/university study without earning ...   \n",
       "2                                  Bachelor's degree   \n",
       "3                                    Doctoral degree   \n",
       "4                                    Master's degree   \n",
       "\n",
       "                                  MajorUndergrad  \\\n",
       "0                                            NaN   \n",
       "1       Computer science or software engineering   \n",
       "2       Computer science or software engineering   \n",
       "3  A non-computer-focused engineering discipline   \n",
       "4       Computer science or software engineering   \n",
       "\n",
       "                                          HomeRemote  \\\n",
       "0                                                NaN   \n",
       "1              More than half, but not all, the time   \n",
       "2  Less than half the time, but at least one day ...   \n",
       "3  Less than half the time, but at least one day ...   \n",
       "4                                              Never   \n",
       "\n",
       "                CompanySize  ... StackOverflowMakeMoney Gender  \\\n",
       "0                       NaN  ...      Strongly disagree   Male   \n",
       "1        20 to 99 employees  ...      Strongly disagree   Male   \n",
       "2  10,000 or more employees  ...               Disagree   Male   \n",
       "3  10,000 or more employees  ...               Disagree   Male   \n",
       "4        10 to 19 employees  ...                    NaN    NaN   \n",
       "\n",
       "  HighestEducationParents                          Race         SurveyLong  \\\n",
       "0             High school  White or of European descent  Strongly disagree   \n",
       "1       A master's degree  White or of European descent     Somewhat agree   \n",
       "2   A professional degree  White or of European descent     Somewhat agree   \n",
       "3       A doctoral degree  White or of European descent              Agree   \n",
       "4                     NaN                           NaN                NaN   \n",
       "\n",
       "  QuestionsInteresting QuestionsConfusing InterestedAnswers    Salary  \\\n",
       "0       Strongly agree           Disagree    Strongly agree       NaN   \n",
       "1       Somewhat agree           Disagree    Strongly agree       NaN   \n",
       "2                Agree           Disagree             Agree  113750.0   \n",
       "3                Agree     Somewhat agree    Strongly agree       NaN   \n",
       "4                  NaN                NaN               NaN       NaN   \n",
       "\n",
       "   ExpectedSalary  \n",
       "0             NaN  \n",
       "1         37500.0  \n",
       "2             NaN  \n",
       "3             NaN  \n",
       "4             NaN  \n",
       "\n",
       "[5 rows x 154 columns]"
      ]
     },
     "execution_count": 1,
     "metadata": {},
     "output_type": "execute_result"
    }
   ],
   "source": [
    "import numpy as np\n",
    "import pandas as pd\n",
    "import matplotlib.pyplot as plt\n",
    "import seaborn as sns\n",
    "%matplotlib inline\n",
    "\n",
    "df = pd.read_csv('./2017_SOF.csv') #read in the dataset\n",
    "df.head() #display dataset"
   ]
  },
  {
   "cell_type": "markdown",
   "id": "52fa3b72",
   "metadata": {},
   "source": [
    "CRISP DM: Data Understanding\n",
    "I have collected the data from the StackOverflow Survey. \n",
    "\n",
    "It is a large dataset with 154 columns and a mix of numerical and categorical data.\n",
    "\n",
    "It contains the following columns I will use for my analysis: \n",
    "-JobSeekingStatus \n",
    "-CareerSatisfaction \n",
    "-JobSatisfaction \n",
    "-HoursPerWeek \n",
    "-StackOverflowSatisfaction \n",
    "-Salary \n",
    "-ExpectedSalary\n",
    " \n",
    "There is a significant amount of Nan values in the JobSeekingStatus column which will be removed. "
   ]
  },
  {
   "cell_type": "markdown",
   "id": "c23e941c",
   "metadata": {},
   "source": [
    "CRISP DM: Prepare Data\n",
    "I will use the StackOverflow Survey dataset and split the data into two groups using the JobSeekingStatus. It will be split into respondents actively seeking a job and those who are not. \n",
    "\n",
    "I will clean up the data by removing and rows containing Nan in the JobSeekingStatus column. "
   ]
  },
  {
   "cell_type": "markdown",
   "id": "40b2f4ec",
   "metadata": {},
   "source": [
    "CRISP DM: Prepare Data\n",
    "\n",
    "Now we clean up the data by removing any rows containing blank or Nan in the column JobSeekingStatus. Those are useless since I am focusing on respondents who filled in JobSeekingStatus. I then subsetted the data into JobSeekingStatus and numerical columns. "
   ]
  },
  {
   "cell_type": "code",
   "execution_count": 2,
   "id": "807bd453",
   "metadata": {},
   "outputs": [
    {
     "data": {
      "text/html": [
       "<div>\n",
       "<style scoped>\n",
       "    .dataframe tbody tr th:only-of-type {\n",
       "        vertical-align: middle;\n",
       "    }\n",
       "\n",
       "    .dataframe tbody tr th {\n",
       "        vertical-align: top;\n",
       "    }\n",
       "\n",
       "    .dataframe thead th {\n",
       "        text-align: right;\n",
       "    }\n",
       "</style>\n",
       "<table border=\"1\" class=\"dataframe\">\n",
       "  <thead>\n",
       "    <tr style=\"text-align: right;\">\n",
       "      <th></th>\n",
       "      <th>JobSeekingStatus</th>\n",
       "      <th>CareerSatisfaction</th>\n",
       "      <th>JobSatisfaction</th>\n",
       "      <th>HoursPerWeek</th>\n",
       "      <th>StackOverflowSatisfaction</th>\n",
       "      <th>Salary</th>\n",
       "      <th>ExpectedSalary</th>\n",
       "    </tr>\n",
       "  </thead>\n",
       "  <tbody>\n",
       "    <tr>\n",
       "      <th>0</th>\n",
       "      <td>I'm not actively looking, but I am open to new...</td>\n",
       "      <td>NaN</td>\n",
       "      <td>NaN</td>\n",
       "      <td>0.0</td>\n",
       "      <td>9.0</td>\n",
       "      <td>NaN</td>\n",
       "      <td>NaN</td>\n",
       "    </tr>\n",
       "    <tr>\n",
       "      <th>3</th>\n",
       "      <td>I am actively looking for a job</td>\n",
       "      <td>6.0</td>\n",
       "      <td>3.0</td>\n",
       "      <td>5.0</td>\n",
       "      <td>10.0</td>\n",
       "      <td>NaN</td>\n",
       "      <td>NaN</td>\n",
       "    </tr>\n",
       "    <tr>\n",
       "      <th>5</th>\n",
       "      <td>I'm not actively looking, but I am open to new...</td>\n",
       "      <td>NaN</td>\n",
       "      <td>NaN</td>\n",
       "      <td>0.0</td>\n",
       "      <td>6.0</td>\n",
       "      <td>NaN</td>\n",
       "      <td>NaN</td>\n",
       "    </tr>\n",
       "    <tr>\n",
       "      <th>6</th>\n",
       "      <td>I'm not actively looking, but I am open to new...</td>\n",
       "      <td>7.0</td>\n",
       "      <td>6.0</td>\n",
       "      <td>1.0</td>\n",
       "      <td>8.0</td>\n",
       "      <td>NaN</td>\n",
       "      <td>NaN</td>\n",
       "    </tr>\n",
       "    <tr>\n",
       "      <th>7</th>\n",
       "      <td>I'm not actively looking, but I am open to new...</td>\n",
       "      <td>7.0</td>\n",
       "      <td>7.0</td>\n",
       "      <td>1.0</td>\n",
       "      <td>7.0</td>\n",
       "      <td>NaN</td>\n",
       "      <td>NaN</td>\n",
       "    </tr>\n",
       "  </tbody>\n",
       "</table>\n",
       "</div>"
      ],
      "text/plain": [
       "                                    JobSeekingStatus  CareerSatisfaction  \\\n",
       "0  I'm not actively looking, but I am open to new...                 NaN   \n",
       "3                    I am actively looking for a job                 6.0   \n",
       "5  I'm not actively looking, but I am open to new...                 NaN   \n",
       "6  I'm not actively looking, but I am open to new...                 7.0   \n",
       "7  I'm not actively looking, but I am open to new...                 7.0   \n",
       "\n",
       "   JobSatisfaction  HoursPerWeek  StackOverflowSatisfaction  Salary  \\\n",
       "0              NaN           0.0                        9.0     NaN   \n",
       "3              3.0           5.0                       10.0     NaN   \n",
       "5              NaN           0.0                        6.0     NaN   \n",
       "6              6.0           1.0                        8.0     NaN   \n",
       "7              7.0           1.0                        7.0     NaN   \n",
       "\n",
       "   ExpectedSalary  \n",
       "0             NaN  \n",
       "3             NaN  \n",
       "5             NaN  \n",
       "6             NaN  \n",
       "7             NaN  "
      ]
     },
     "execution_count": 2,
     "metadata": {},
     "output_type": "execute_result"
    }
   ],
   "source": [
    "df = df.dropna(subset = ['JobSeekingStatus'], how = 'any') #clean up data by dropping Nan values\n",
    "seeking_status = df[[\"JobSeekingStatus\",\"CareerSatisfaction\",\"JobSatisfaction\",\"HoursPerWeek\",\"StackOverflowSatisfaction\",\"Salary\",\"ExpectedSalary\"]] #select jobseeking status and numerical columns\n",
    "seeking_status.head() #display dataframe"
   ]
  },
  {
   "cell_type": "markdown",
   "id": "0c1bf8f5",
   "metadata": {},
   "source": [
    "CRISP DM: Prepare Data\n",
    "I now split the data into two dataframes: not_looking and looking. Each containing data from respondents seeking a job and not seeking a job. Reformatting the data was not required further. \n",
    "\n",
    "CRISP DM: Modeling\n",
    "I am using descriptive statistics to communicate my findings. Histograms and bar charts are the best way to describe the average mean of a large group of data. "
   ]
  },
  {
   "cell_type": "code",
   "execution_count": 3,
   "id": "d1788acf",
   "metadata": {
    "scrolled": true
   },
   "outputs": [
    {
     "data": {
      "image/png": "[encoded data removed]",
      "text/plain": [
       "<Figure size 432x288 with 6 Axes>"
      ]
     },
     "metadata": {
      "needs_background": "light"
     },
     "output_type": "display_data"
    }
   ],
   "source": [
    "not_looking = seeking_status.loc[df['JobSeekingStatus'] == \"I am not interested in new job opportunities\"] #df contains respondents not looking for a job\n",
    "not_looking.hist(); #display histogram "
   ]
  },
  {
   "cell_type": "code",
   "execution_count": 5,
   "id": "f115e3dd",
   "metadata": {},
   "outputs": [
    {
     "data": {
      "image/png": "[encoded data removed]",
      "text/plain": [
       "<Figure size 432x288 with 6 Axes>"
      ]
     },
     "metadata": {
      "needs_background": "light"
     },
     "output_type": "display_data"
    }
   ],
   "source": [
    "looking = seeking_status.loc[df['JobSeekingStatus'] == \"I am actively looking for a job\"] #df contains respondents actively seeking a job\n",
    "looking.hist(); #display histogram"
   ]
  },
  {
   "cell_type": "markdown",
   "id": "1a0a546f",
   "metadata": {},
   "source": [
    "Based on the histograms above, some major differences can be pointed out between those who are looking for a job and those who are not. Career and Job Satisfaction is left skewed in the notlooking dataset, indicating that the majority of individuals are satisfied. While Career and Job Satisfaction is closely shaped to a bell curve in the looking dataset, indicating satisfaction is more equaly spread out among the job seeking. \n",
    "\n",
    "Next, let's compare the means of numerical factors side by side in a bar chart."
   ]
  },
  {
   "cell_type": "code",
   "execution_count": 7,
   "id": "22ed6da8",
   "metadata": {},
   "outputs": [
    {
     "data": {
      "image/png": "[encoded data removed]",
      "text/plain": [
       "<Figure size 432x288 with 1 Axes>"
      ]
     },
     "metadata": {
      "needs_background": "light"
     },
     "output_type": "display_data"
    }
   ],
   "source": [
    "#calculate mean of CareerSatisfaction, JobSatisfaction, HoursPerWeek, StackOverflowSatisfaction, Salary and,ExpectedSalary\n",
    "#for looking dataset\n",
    "lcs = looking[\"CareerSatisfaction\"].mean()\n",
    "ljs = looking[\"JobSatisfaction\"].mean()\n",
    "lhpw = looking[\"HoursPerWeek\"].mean()\n",
    "ls = looking[\"Salary\"].mean()\n",
    "les = looking[\"ExpectedSalary\"].mean()\n",
    "\n",
    "#calculate mean of CareerSatisfaction, JobSatisfaction, HoursPerWeek, StackOverflowSatisfaction, Salary and,ExpectedSalary\n",
    "#for not_looking dataset\n",
    "nlcs = not_looking[\"CareerSatisfaction\"].mean()\n",
    "nljs = not_looking[\"JobSatisfaction\"].mean()\n",
    "nlhpw = not_looking[\"HoursPerWeek\"].mean()\n",
    "nls = not_looking[\"Salary\"].mean()\n",
    "nles = not_looking[\"ExpectedSalary\"].mean()\n",
    "\n",
    "labels = [\"CareerSatisfaction\",\"JobSatisfaction\",\"HoursPerWeek\"] #label bars for visualization\n",
    "looking_means = [lcs,ljs,lhpw] #organize CareerSatisfaction, JobSatisfaction, HoursPerWeek from looking dataset into list\n",
    "not_looking_means = [nlcs,nljs,nlhpw] #organize CareerSatisfaction, JobSatisfaction, HoursPerWeek from not_looking dataset into list\n",
    "width = 0.35 #set bar width for barchart visualization\n",
    "\n",
    "ind = np.arange(2) #set number of bars\n",
    "\n",
    "#set colors for bars in visualization\n",
    "plt.bar(ind, (nls,nles), width, label = \"not looking\", color=('#8A9A5B'))\n",
    "plt.bar(ind + width, (ls,les),width,label = \"looking\", color=('#E0115F'))\n",
    "\n",
    "#set up Salary and ExpectedSalary barchart for Mean by Job Seeking Status\n",
    "plt.ylabel('Mean')\n",
    "plt.title('Mean by Job Seeking Status')\n",
    "plt.xticks(ind + width / 2, (\"Salary\",\"ExpectedSalary\"))\n",
    "plt.legend()\n",
    "plt.show()"
   ]
  },
  {
   "cell_type": "markdown",
   "id": "1963878f",
   "metadata": {},
   "source": [
    "The average salary for those not looking is about $12,000 more than those who are looking. While the Expected Salary has a much lower gap at about $2,000 more for those who are not looking for a job. It is not a surpise that those not looking for a job have a higher salary on average."
   ]
  },
  {
   "cell_type": "code",
   "execution_count": 8,
   "id": "421d0ac0",
   "metadata": {},
   "outputs": [
    {
     "data": {
      "image/png": "[encoded data removed]",
      "text/plain": [
       "<Figure size 432x288 with 1 Axes>"
      ]
     },
     "metadata": {
      "needs_background": "light"
     },
     "output_type": "display_data"
    }
   ],
   "source": [
    "ind = np.arange(3) #set number of bars\n",
    "\n",
    "#select bar colors\n",
    "plt.bar(ind, not_looking_means, width, label = \"not looking\", color=('#8A9A5B'))\n",
    "plt.bar(ind + width, looking_means,width,label = \"looking\", color=('#E0115F'))\n",
    "\n",
    "#set up CareerSatisfaction, JobSatisfaction, and HoursPerWeek barchart for Mean by Job Seeking Status\n",
    "plt.ylabel('Mean')\n",
    "plt.title('Mean by Job Seeking Status')\n",
    "plt.xticks(ind + width / 2, labels)\n",
    "plt.legend()\n",
    "\n",
    "plt.show()"
   ]
  },
  {
   "cell_type": "markdown",
   "id": "49433ef9",
   "metadata": {},
   "source": [
    "CRISP DM: Evaluation of Results \n",
    "The models meet the business criteria by describing the numerical characteristic of what someone who is looking for a job. The average Salary, ExpectedSalary, CareerSatisfaction, JobSatisfaction, and HoursPerWeek are shown in the visualizations above. \n",
    "\n",
    "From the chart above, it is clear that those not looking for a job have a higher Career and Job Satisfaction on average. The most significant of the two being Job Satisfaction, where those not looking for a job are more satisfied on average by 3 points. In regards to hours per week, those looking for a job work an average of 6 more hours per week than those not looking. \n",
    "\n",
    "In conclusion, respondents who are actively seeking a job, on average, tend to make less money, work more hours, and have a lower career and job satisfaction than those who are not looking for a job. \n",
    "\n",
    "The next steps are to proceed to deployment by publishing my findings to Medium. Also, search for more ways to use descriptive statistics to create the profile of someone who is actively seeking a job. "
   ]
  }
 ],
 "metadata": {
  "kernelspec": {
   "display_name": "Python 3 (ipykernel)",
   "language": "python",
   "name": "python3"
  },
  "language_info": {
   "codemirror_mode": {
    "name": "ipython",
    "version": 3
   },
   "file_extension": ".py",
   "mimetype": "text/x-python",
   "name": "python",
   "nbconvert_exporter": "python",
   "pygments_lexer": "ipython3",
   "version": "3.9.6"
  }
 },
 "nbformat": 4,
 "nbformat_minor": 5
}
